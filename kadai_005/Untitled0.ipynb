{
  "nbformat": 4,
  "nbformat_minor": 0,
  "metadata": {
    "colab": {
      "provenance": []
    },
    "kernelspec": {
      "name": "python3",
      "display_name": "Python 3"
    },
    "language_info": {
      "name": "python"
    }
  },
  "cells": [
    {
      "cell_type": "code",
      "source": [
        "# 台形の面積\n",
        "number1 = 10\n",
        "number2 = 20\n",
        "number3 = 5\n",
        "print(f\"台形の面積 = {str((number1 + number2) * number3 / 2)} cm²\" )"
      ],
      "metadata": {
        "colab": {
          "base_uri": "https://localhost:8080/"
        },
        "id": "Ro2ZA4rj5PBR",
        "outputId": "ea7bd758-3f4f-4db5-add5-b32e86e895d1"
      },
      "execution_count": 9,
      "outputs": [
        {
          "output_type": "stream",
          "name": "stdout",
          "text": [
            "台形の面積 = 75.0 cm²\n"
          ]
        }
      ]
    }
  ]
}