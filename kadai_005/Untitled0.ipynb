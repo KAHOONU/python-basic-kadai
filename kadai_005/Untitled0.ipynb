{
  "nbformat": 4,
  "nbformat_minor": 0,
  "metadata": {
    "colab": {
      "provenance": []
    },
    "kernelspec": {
      "name": "python3",
      "display_name": "Python 3"
    },
    "language_info": {
      "name": "python"
    }
  },
  "cells": [
    {
      "cell_type": "code",
      "source": [
        "# 台形の面積\n",
        "number1 = 10\n",
        "number2 = 20\n",
        "number3 = 5\n",
        "result = (number1 + number2) * number3 / 2\n",
        "print(f\"台形の面積 = {str(result)} cm²\" )"
      ],
      "metadata": {
        "colab": {
          "base_uri": "https://localhost:8080/"
        },
        "id": "Ro2ZA4rj5PBR",
        "outputId": "21a3f6e3-aeda-49ba-ee15-3b49193bd308"
      },
      "execution_count": null,
      "outputs": [
        {
          "output_type": "stream",
          "name": "stdout",
          "text": [
            "台形の面積 = 75.0 cm²\n"
          ]
        }
      ]
    }
  ]
}