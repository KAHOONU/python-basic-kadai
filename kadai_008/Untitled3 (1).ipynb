{
  "nbformat": 4,
  "nbformat_minor": 0,
  "metadata": {
    "colab": {
      "provenance": []
    },
    "kernelspec": {
      "name": "python3",
      "display_name": "Python 3"
    },
    "language_info": {
      "name": "python"
    }
  },
  "cells": [
    {
      "cell_type": "code",
      "execution_count": 39,
      "metadata": {
        "colab": {
          "base_uri": "https://localhost:8080/"
        },
        "id": "M-z9XmJcg2xb",
        "outputId": "7402e8b8-b387-4c00-ac40-357794dbb78d"
      },
      "outputs": [
        {
          "output_type": "stream",
          "name": "stdout",
          "text": [
            "15\n",
            "FizzBuzz\n"
          ]
        }
      ],
      "source": [
        "import random\n",
        "\n",
        "num = random.randint(1, 100)\n",
        "\n",
        "print(num)\n",
        "\n",
        "# 変数numの値が3の倍数なら　「Fizz」、５の倍数なら「Buzz」、どちらも当てはまるなら「FizzBuzz」、それ以外なら「var」と出力する\n",
        "if num % 3 == 0 and num % 5 == 0:\n",
        "    print(\"FizzBuzz\")\n",
        "elif num % 5 == 0:\n",
        "    print(\"Buzz\")\n",
        "elif num % 3 == 0 :\n",
        "    print(\"Fizz\")\n",
        "else:\n",
        "    print(\"var\")\n"
      ]
    }
  ]
}