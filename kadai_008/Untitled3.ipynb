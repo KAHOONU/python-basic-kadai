{
  "nbformat": 4,
  "nbformat_minor": 0,
  "metadata": {
    "colab": {
      "provenance": []
    },
    "kernelspec": {
      "name": "python3",
      "display_name": "Python 3"
    },
    "language_info": {
      "name": "python"
    }
  },
  "cells": [
    {
      "cell_type": "code",
      "execution_count": 18,
      "metadata": {
        "colab": {
          "base_uri": "https://localhost:8080/"
        },
        "id": "M-z9XmJcg2xb",
        "outputId": "cae86fa8-2797-4486-e31c-814a95d46382"
      },
      "outputs": [
        {
          "output_type": "stream",
          "name": "stdout",
          "text": [
            "89\n",
            "var\n"
          ]
        }
      ],
      "source": [
        "import random\n",
        "\n",
        "num = random.randint(1, 100)\n",
        "\n",
        "print(num)\n",
        "\n",
        "# 変数numの値が3の倍数なら　「Fizz」、５の倍数なら「Buzz」、どちらも当てはまるなら「FizzBuzz」、それ以外なら「var」と出力する\n",
        "if num % 3 == 0:\n",
        "    print(\"Fizz\")\n",
        "elif num % 5 == 0 :\n",
        "    print(\"Buzz\")\n",
        "elif num % 3 == 0 and num % 5 == 0:\n",
        "    print(\"FizzBuzz\")\n",
        "else:\n",
        "    print(\"var\")\n"
      ]
    }
  ]
}