{
  "nbformat": 4,
  "nbformat_minor": 0,
  "metadata": {
    "colab": {
      "provenance": []
    },
    "kernelspec": {
      "name": "python3",
      "display_name": "Python 3"
    },
    "language_info": {
      "name": "python"
    }
  },
  "cells": [
    {
      "cell_type": "code",
      "source": [
        "def add_two_arguments(price, tax):\n",
        "    # 与えられた引数priceと引数taxを加算し、変数totalに代入する\n",
        "    total = price * tax\n",
        "    return total\n",
        "\n",
        "result = add_two_arguments(1000, 1.1)\n",
        "print(f\"{result}円\")"
      ],
      "metadata": {
        "colab": {
          "base_uri": "https://localhost:8080/"
        },
        "id": "1-68os56BTzE",
        "outputId": "b95c79c3-86b9-49b1-c3c7-5550fbb72b5c"
      },
      "execution_count": 1,
      "outputs": [
        {
          "output_type": "stream",
          "name": "stdout",
          "text": [
            "1100.0円\n"
          ]
        }
      ]
    }
  ]
}